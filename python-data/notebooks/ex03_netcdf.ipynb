{
 "cells": [
  {
   "cell_type": "markdown",
   "metadata": {
    "pycharm": {
     "name": "#%% md\n"
    }
   },
   "source": [
    "# Exercise 3: Reading and Writing NetCDF files with Python\n",
    "\n",
    "## Aim: Introduce the netCDF4 library in Python to read and create NetCDF4 files.\n",
    "\n",
    "### Issues covered:\n",
    "\n",
    "- Importing netCDF4\n",
    "- Reading a NetCDF file as a Dataset instance\n",
    "- Accessing Dimensions, Variables, and Attributes\n",
    "- Defining Dimensions, Variables, and Attributes\n",
    "- Writing a NetCDF file as a Dataset\n",
    "\n",
    "## Let's work with the netCDF4 library to examine the contents of a data file.\n",
    "\n",
    "Import the `netCDF4` library"
   ]
  },
  {
   "cell_type": "code",
   "execution_count": 1,
   "metadata": {
    "collapsed": false,
    "jupyter": {
     "outputs_hidden": false
    },
    "pycharm": {
     "name": "#%%\n"
    }
   },
   "outputs": [],
   "source": [
    "from netCDF4 import Dataset\n"
   ]
  },
  {
   "attachments": {},
   "cell_type": "markdown",
   "metadata": {},
   "source": [
    "Open the file \"../example_data/ggas2014121200_00-18.nc\" with the netCDF4 `Dataset` method,\n",
    "assign it to the `ds` variable."
   ]
  },
  {
   "cell_type": "code",
   "execution_count": 2,
   "metadata": {
    "collapsed": false,
    "jupyter": {
     "outputs_hidden": false
    },
    "pycharm": {
     "name": "#%%\n"
    }
   },
   "outputs": [],
   "source": [
    "ds = Dataset('../example_data/ggas2014121200_00-18.nc')"
   ]
  },
  {
   "cell_type": "markdown",
   "metadata": {},
   "source": [
    "Loop through and print Dataset `variables` names, this is the ID that act like the key to access the Variable."
   ]
  },
  {
   "cell_type": "code",
   "execution_count": 3,
   "metadata": {
    "collapsed": false,
    "jupyter": {
     "outputs_hidden": false
    },
    "pycharm": {
     "name": "#%%\n"
    }
   },
   "outputs": [
    {
     "name": "stdout",
     "output_type": "stream",
     "text": [
      "['longitude', 'latitude', 'surface', 'time', 'CI', 'SSTK', 'MSL', 'TCC', 'U10', 'V10', 'SKT']\n"
     ]
    }
   ],
   "source": [
    "print(list(ds.variables.keys()))"
   ]
  },
  {
   "cell_type": "markdown",
   "metadata": {
    "pycharm": {
     "name": "#%% md\n"
    }
   },
   "source": [
    "From the Dataset `variables`, assign the key `SSTK` to the `sst` variable.\n",
    "Access the `SSTK` variable like you would a dictionary from `ds.variables`.\n",
    "\n",
    "- Print the `shape` and `size` of the `sst` variable\n",
    "- Loop through the `dimensions` of `sst` and print the dimension name and length.\n",
    "- Loop through the NetCDF attributes of `sst` and print the name and value.\n",
    "(use `sst.ncattrs()` to access the attributes and `getattr(sst, {attribute name})` to get the value)"
   ]
  },
  {
   "cell_type": "code",
   "execution_count": 4,
   "metadata": {
    "collapsed": false,
    "jupyter": {
     "outputs_hidden": false
    },
    "pycharm": {
     "name": "#%%\n"
    }
   },
   "outputs": [
    {
     "name": "stdout",
     "output_type": "stream",
     "text": [
      "(4, 1, 256, 512) 524288\n"
     ]
    }
   ],
   "source": [
    "sst = ds.variables['SSTK']\n",
    "print(sst.shape , sst.size )\n",
    "sst\n",
    "att_list = sst.ncattrs()\n",
    "#print(att_list)\n",
    "for i in att_list:\n",
    "    v = getattr(sst, i)\n",
    "    #print(i,':' , v)\n"
   ]
  },
  {
   "cell_type": "code",
   "execution_count": 5,
   "metadata": {},
   "outputs": [
    {
     "data": {
      "text/plain": [
       "<class 'netCDF4._netCDF4.Variable'>\n",
       "float32 SSTK(time, surface, latitude, longitude)\n",
       "    long_name: Sea surface temperature\n",
       "    units: K\n",
       "    grid_type: gaussian\n",
       "    _FillValue: 2e+20\n",
       "    source: GRIB data\n",
       "    name: SSTK\n",
       "    title: Sea surface temperature\n",
       "    date: 12/12/14\n",
       "    time: 00:00\n",
       "unlimited dimensions: time\n",
       "current shape = (4, 1, 256, 512)\n",
       "filling on"
      ]
     },
     "execution_count": 5,
     "metadata": {},
     "output_type": "execute_result"
    }
   ],
   "source": [
    "sst"
   ]
  },
  {
   "cell_type": "markdown",
   "metadata": {},
   "source": [
    "## Let's extract some data and its related coordinate information and metadata.\n",
    "\n",
    "Using the `sst` variable from before, take a slice of `sst` as follows and assign it the variable `arr`:\n",
    "\n",
    "```python\n",
    "sst[1, 0, 10:20, 30:35]\n",
    "```\n",
    "\n",
    "- Print what type of object `arr` is"
   ]
  },
  {
   "cell_type": "code",
   "execution_count": 6,
   "metadata": {
    "pycharm": {
     "name": "#%%\n"
    },
    "scrolled": true
   },
   "outputs": [
    {
     "data": {
      "text/plain": [
       "masked_array(\n",
       "  data=[[271.459716796875, 271.459716796875, 271.459716796875,\n",
       "         271.459716796875, 271.459716796875],\n",
       "        [271.459716796875, 271.459716796875, 271.459716796875,\n",
       "         271.459716796875, 271.459716796875],\n",
       "        [271.498046875, 271.48876953125, 271.4794921875, 271.47021484375,\n",
       "         271.4609375],\n",
       "        [270.8381042480469, 270.7830505371094, 270.9228515625,\n",
       "         271.0626525878906, 271.20245361328125],\n",
       "        [--, --, --, --, 271.459716796875],\n",
       "        [271.459716796875, 271.459716796875, 271.459716796875,\n",
       "         271.459716796875, 271.459716796875],\n",
       "        [271.459716796875, 271.459716796875, 271.459716796875,\n",
       "         271.459716796875, 271.459716796875],\n",
       "        [271.459716796875, 271.459716796875, 271.459716796875,\n",
       "         271.459716796875, 271.459716796875],\n",
       "        [272.540771484375, 272.000244140625, 271.459716796875,\n",
       "         271.459716796875, 271.459716796875],\n",
       "        [274.676025390625, 274.25634765625, 273.836669921875,\n",
       "         273.1882019042969, 272.53973388671875]],\n",
       "  mask=[[False, False, False, False, False],\n",
       "        [False, False, False, False, False],\n",
       "        [False, False, False, False, False],\n",
       "        [False, False, False, False, False],\n",
       "        [ True,  True,  True,  True, False],\n",
       "        [False, False, False, False, False],\n",
       "        [False, False, False, False, False],\n",
       "        [False, False, False, False, False],\n",
       "        [False, False, False, False, False],\n",
       "        [False, False, False, False, False]],\n",
       "  fill_value=2e+20,\n",
       "  dtype=float32)"
      ]
     },
     "execution_count": 6,
     "metadata": {},
     "output_type": "execute_result"
    }
   ],
   "source": [
    "arr = sst[1, 0, 10:20, 30:35]\n",
    "arr\n"
   ]
  },
  {
   "cell_type": "markdown",
   "metadata": {
    "pycharm": {
     "name": "#%% md\n"
    }
   },
   "source": [
    "Assign and print the list of `dimensions` from `sst` to the variable `dims`.\n",
    "Assign the `variables` dictionary of the Dataset, `ds`, to the variables `vars`"
   ]
  },
  {
   "cell_type": "code",
   "execution_count": 7,
   "metadata": {},
   "outputs": [
    {
     "data": {
      "text/plain": [
       "dict_keys(['longitude', 'latitude', 'surface', 'time', 'CI', 'SSTK', 'MSL', 'TCC', 'U10', 'V10', 'SKT'])"
      ]
     },
     "execution_count": 7,
     "metadata": {},
     "output_type": "execute_result"
    }
   ],
   "source": [
    "#sst.dimensions\n",
    "vars = ds.variables\n",
    "type(vars)\n",
    "vars.keys()"
   ]
  },
  {
   "cell_type": "code",
   "execution_count": 8,
   "metadata": {
    "pycharm": {
     "name": "#%%\n"
    },
    "scrolled": true
   },
   "outputs": [],
   "source": [
    "dims = sst.dimensions\n",
    "dims\n",
    "vars = ds.variables\n"
   ]
  },
  {
   "cell_type": "markdown",
   "metadata": {
    "pycharm": {
     "name": "#%% md\n"
    }
   },
   "source": [
    "Now extract the slices from each Dataset variable in `vars` matching those in `arr`\n",
    "(i.e. matching the values in slice `[1, 0, 10:20, 30:35]` to the values in list `dims`).\n",
    "\n",
    "Assign them to the following variables:\n",
    "\n",
    "- Assign `time` slice to `arr_time`\n",
    "- Assign `surface` slice to `arr_level`\n",
    "- Assign `latitude` slice to `arr_lats`\n",
    "- Assign `longitude` slice to `arr_lons`\n",
    "\n",
    "Print the four new variables."
   ]
  },
  {
   "cell_type": "code",
   "execution_count": 9,
   "metadata": {
    "collapsed": false,
    "jupyter": {
     "outputs_hidden": false
    },
    "pycharm": {
     "name": "#%%\n"
    }
   },
   "outputs": [],
   "source": [
    "arr_time = vars['time'][1]\n",
    "arr_level = vars['surface'][0]\n",
    "arr_lats = vars['latitude'][10:20]\n",
    "arr_lons = vars['longitude'][30:35]"
   ]
  },
  {
   "cell_type": "markdown",
   "metadata": {},
   "source": [
    "Create an empty dictionary called `metadata`, Loop through the NetCDF Variable attributes of `sst` and copy them into this new dictionary.\n",
    "Use the method as before to get name and value from `sst` and assign them to the key and value of the dictionary.\n",
    "\n",
    "Print the dictionary."
   ]
  },
  {
   "cell_type": "code",
   "execution_count": 10,
   "metadata": {
    "collapsed": false,
    "jupyter": {
     "outputs_hidden": false
    },
    "pycharm": {
     "name": "#%%\n"
    }
   },
   "outputs": [
    {
     "name": "stdout",
     "output_type": "stream",
     "text": [
      "{'long_name': 'Sea surface temperature', 'units': 'K', 'grid_type': 'gaussian', '_FillValue': 2e+20, 'source': 'GRIB data', 'name': 'SSTK', 'title': 'Sea surface temperature', 'date': '12/12/14', 'time': '00:00'}\n"
     ]
    }
   ],
   "source": [
    "metadata = {}\n",
    "\n",
    "#the for loop goes through the attributes in sst by finding them in the list sst.ncaattrs() \n",
    "#the second line, for each attribute it adds to the dictionary using the name of the attribute (in the [] ) and assign it to value of that arrribute \n",
    "# which is retrieved using getattr(sst, att)\n",
    "for att in sst.ncattrs():\n",
    "    metadata[att] = getattr(sst, att)\n",
    "\n",
    "print(metadata)"
   ]
  },
  {
   "cell_type": "markdown",
   "metadata": {},
   "source": [
    "## Let's write the data/metadata from the previous section to a new NetCDF file\n",
    "\n",
    "In this section, we will define our own Variables, Dimensions, Attributes and save them as a NetCDF file.\n",
    "\n",
    "To start, import numpy as np."
   ]
  },
  {
   "cell_type": "code",
   "execution_count": 11,
   "metadata": {
    "collapsed": false,
    "jupyter": {
     "outputs_hidden": false
    },
    "pycharm": {
     "name": "#%%\n"
    }
   },
   "outputs": [],
   "source": [
    "import numpy as np"
   ]
  },
  {
   "cell_type": "markdown",
   "metadata": {},
   "source": [
    "Open a new netCDF `Dataset` for writing to a file: \"mydata.nc\", specify the `mode` as write with \"w\" and the `format` as \"NETCDF4_CLASSIC\"\n",
    "Assign this to the variable `myds`"
   ]
  },
  {
   "cell_type": "code",
   "execution_count": 12,
   "metadata": {
    "collapsed": false,
    "jupyter": {
     "outputs_hidden": false
    },
    "pycharm": {
     "name": "#%%\n"
    }
   },
   "outputs": [],
   "source": [
    "from netCDF4 import Dataset\n",
    "from numpy.random import uniform\n",
    "from datetime import datetime, timedelta\n",
    "from netCDF4 import num2date, date2num\n",
    "\n",
    "myds = Dataset('mydata.nc', 'w', format='NETCDF4_CLASSIC')"
   ]
  },
  {
   "cell_type": "markdown",
   "metadata": {},
   "source": [
    "Create four new Dimensions to `myds` from your previous slices. Re-use the names from the last section.\n",
    "Note that the \"level\" and \"time\" Dimensions should have length, \"lat\" length 10 and \"lon\" length 5.\n",
    "To create a new Dimension use `myds.createDimension(name, size)`"
   ]
  },
  {
   "cell_type": "code",
   "execution_count": 13,
   "metadata": {
    "collapsed": false,
    "jupyter": {
     "outputs_hidden": false
    },
    "pycharm": {
     "name": "#%%\n"
    }
   },
   "outputs": [],
   "source": [
    "time = myds.createDimension('time', 1)\n",
    "level = myds.createDimension('level', 1)\n",
    "lat = myds.createDimension('lat', 10)\n",
    "lon = myds.createDimension('lon', 5)"
   ]
  },
  {
   "cell_type": "markdown",
   "metadata": {},
   "source": [
    "Create four Variables from those dimensions and assign them following this example for times:\n",
    "\n",
    "```python\n",
    "times = myds.createVariable('times', np.float64, ('time',))\n",
    "```"
   ]
  },
  {
   "cell_type": "code",
   "execution_count": 14,
   "metadata": {
    "collapsed": false,
    "jupyter": {
     "outputs_hidden": false
    },
    "pycharm": {
     "name": "#%%\n"
    }
   },
   "outputs": [],
   "source": [
    "times = myds.createVariable('times', np.float64, ('time',))\n",
    "levels = myds.createVariable('levels', np.int32, ('level',))\n",
    "lats = myds.createVariable('latitudes', np.float32, ('lat',))\n",
    "lons = myds.createVariable('longitudes', np.float32, ('lon',))"
   ]
  },
  {
   "cell_type": "markdown",
   "metadata": {},
   "source": [
    "Create `myvar` as a new Dataset Variable, with id \"temp\", type \"np.float64\", and dimensions: \"time\", \"level\", \"lat\", \"lon\"."
   ]
  },
  {
   "cell_type": "code",
   "execution_count": 15,
   "metadata": {
    "collapsed": false,
    "jupyter": {
     "outputs_hidden": false
    },
    "pycharm": {
     "name": "#%%\n"
    }
   },
   "outputs": [],
   "source": [
    "myvar = myds.createVariable('temp', np.float64, ('time','level','lat','lon'))\n"
   ]
  },
  {
   "cell_type": "code",
   "execution_count": null,
   "metadata": {},
   "outputs": [],
   "source": []
  },
  {
   "cell_type": "markdown",
   "metadata": {},
   "source": [
    "Remove the `_FillValue` value in the `metadata` dictionary.\n",
    "The next step will not work unless we do this.\n",
    "Fill values should be handled when the Variable is created, but we are ignoring that for this example.\n",
    "\n",
    "Use `del` to remove the `_FillValue` from `metadata`"
   ]
  },
  {
   "cell_type": "code",
   "execution_count": 16,
   "metadata": {
    "collapsed": false,
    "jupyter": {
     "outputs_hidden": false
    },
    "pycharm": {
     "name": "#%%\n"
    }
   },
   "outputs": [],
   "source": [
    "del metadata['_FillValue']"
   ]
  },
  {
   "cell_type": "markdown",
   "metadata": {
    "pycharm": {
     "name": "#%% md\n"
    }
   },
   "source": [
    "Write Variable attributes from the key/value pairs found in the input data (held in the `metadata` dictionary) to `myvar`.\n",
    "Use `myvar.setncattr(key, value)` to write attributes to the Dataset.\n",
    "\n",
    "Write one more global attribute \"source\" to `myds`. Set the attribute `source` to the value \"super dataset\".\n",
    "Use `myds.source` to create and set the value to the global attribute."
   ]
  },
  {
   "cell_type": "code",
   "execution_count": 17,
   "metadata": {
    "pycharm": {
     "name": "#%%\n"
    }
   },
   "outputs": [
    {
     "name": "stdout",
     "output_type": "stream",
     "text": [
      "<class 'netCDF4._netCDF4.Variable'>\n",
      "float64 temp(time, level, lat, lon)\n",
      "    long_name: Sea surface temperature\n",
      "    units: K\n",
      "    grid_type: gaussian\n",
      "    source: GRIB data\n",
      "    name: SSTK\n",
      "    title: Sea surface temperature\n",
      "    date: 12/12/14\n",
      "    time: 00:00\n",
      "unlimited dimensions: \n",
      "current shape = (1, 1, 10, 5)\n",
      "filling on, default _FillValue of 9.969209968386869e+36 used\n"
     ]
    }
   ],
   "source": [
    "for key, value in metadata.items():\n",
    "    myvar.setncattr(key, value)\n",
    "print(myvar)\n",
    "myds.source = \"super dataset\""
   ]
  },
  {
   "cell_type": "markdown",
   "metadata": {
    "pycharm": {
     "name": "#%% md\n"
    }
   },
   "source": [
    "Assign the `arr` array from before to `myvar[:]`\n",
    "\n",
    "Write some data values to each of your four spatio-temporal variables you created.\n",
    "Use simple lists of integers for these.\n",
    "Make sure they are the right length matching the slices from the previous section,\n",
    "use the index `[:]` on your `myds` Variables and assign the created array variables to them.\n",
    "\n",
    "Lastly close the Dataset, `myds`, to save the file."
   ]
  },
  {
   "cell_type": "code",
   "execution_count": 18,
   "metadata": {
    "collapsed": false,
    "jupyter": {
     "outputs_hidden": false
    },
    "pycharm": {
     "name": "#%%\n"
    }
   },
   "outputs": [],
   "source": [
    "myvar[:] = arr\n",
    "times [:] = [1]\n",
    "levels[:] = [1]\n",
    "lats [:] = np.arange(0, 40, 4)\n",
    "lons [:] = np.arange(0, 20, 4)\n",
    "\n",
    "\n",
    "np.shape(myvar)\n",
    "\n",
    "myds.close()"
   ]
  },
  {
   "cell_type": "markdown",
   "metadata": {},
   "source": [
    "To view the file contents, you can use the Jasmin service to run the `$ ncdump mydata.nc` command from the directory where the file is saved. Alternatively, you can call out to the linux shell from a Notebook, using: \n",
    "\n",
    "```\n",
    "!ncdump mydata.nc\n",
    "```"
   ]
  },
  {
   "cell_type": "code",
   "execution_count": 19,
   "metadata": {},
   "outputs": [
    {
     "name": "stdout",
     "output_type": "stream",
     "text": [
      "netcdf mydata {\n",
      "dimensions:\n",
      "\ttime = 1 ;\n",
      "\tlevel = 1 ;\n",
      "\tlat = 10 ;\n",
      "\tlon = 5 ;\n",
      "variables:\n",
      "\tdouble times(time) ;\n",
      "\tint levels(level) ;\n",
      "\tfloat latitudes(lat) ;\n",
      "\tfloat longitudes(lon) ;\n",
      "\tdouble temp(time, level, lat, lon) ;\n",
      "\t\ttemp:long_name = \"Sea surface temperature\" ;\n",
      "\t\ttemp:units = \"K\" ;\n",
      "\t\ttemp:grid_type = \"gaussian\" ;\n",
      "\t\ttemp:source = \"GRIB data\" ;\n",
      "\t\ttemp:name = \"SSTK\" ;\n",
      "\t\ttemp:title = \"Sea surface temperature\" ;\n",
      "\t\ttemp:date = \"12/12/14\" ;\n",
      "\t\ttemp:time = \"00:00\" ;\n",
      "\n",
      "// global attributes:\n",
      "\t\t:source = \"super dataset\" ;\n",
      "data:\n",
      "\n",
      " times = 1 ;\n",
      "\n",
      " levels = 1 ;\n",
      "\n",
      " latitudes = 0, 4, 8, 12, 16, 20, 24, 28, 32, 36 ;\n",
      "\n",
      " longitudes = 0, 4, 8, 12, 16 ;\n",
      "\n",
      " temp =\n",
      "  271.459716796875, 271.459716796875, 271.459716796875, 271.459716796875, \n",
      "    271.459716796875,\n",
      "  271.459716796875, 271.459716796875, 271.459716796875, 271.459716796875, \n",
      "    271.459716796875,\n",
      "  271.498046875, 271.48876953125, 271.4794921875, 271.47021484375, 271.4609375,\n",
      "  270.838104248047, 270.783050537109, 270.9228515625, 271.062652587891, \n",
      "    271.202453613281,\n",
      "  _, _, _, _, 271.459716796875,\n",
      "  271.459716796875, 271.459716796875, 271.459716796875, 271.459716796875, \n",
      "    271.459716796875,\n",
      "  271.459716796875, 271.459716796875, 271.459716796875, 271.459716796875, \n",
      "    271.459716796875,\n",
      "  271.459716796875, 271.459716796875, 271.459716796875, 271.459716796875, \n",
      "    271.459716796875,\n",
      "  272.540771484375, 272.000244140625, 271.459716796875, 271.459716796875, \n",
      "    271.459716796875,\n",
      "  274.676025390625, 274.25634765625, 273.836669921875, 273.188201904297, \n",
      "    272.539733886719 ;\n",
      "}\n"
     ]
    }
   ],
   "source": [
    "!ncdump mydata.nc"
   ]
  },
  {
   "cell_type": "code",
   "execution_count": 20,
   "metadata": {},
   "outputs": [
    {
     "name": "stdout",
     "output_type": "stream",
     "text": [
      "netcdf mydata {\n",
      "dimensions:\n",
      "\ttime = 1 ;\n",
      "\tlevel = 1 ;\n",
      "\tlat = 10 ;\n",
      "\tlon = 5 ;\n",
      "variables:\n",
      "\tdouble times(time) ;\n",
      "\tint levels(level) ;\n",
      "\tfloat latitudes(lat) ;\n",
      "\tfloat longitudes(lon) ;\n",
      "\tdouble temp(time, level, lat, lon) ;\n",
      "\t\ttemp:long_name = \"Sea surface temperature\" ;\n",
      "\t\ttemp:units = \"K\" ;\n",
      "\t\ttemp:grid_type = \"gaussian\" ;\n",
      "\t\ttemp:source = \"GRIB data\" ;\n",
      "\t\ttemp:name = \"SSTK\" ;\n",
      "\t\ttemp:title = \"Sea surface temperature\" ;\n",
      "\t\ttemp:date = \"12/12/14\" ;\n",
      "\t\ttemp:time = \"00:00\" ;\n",
      "\n",
      "// global attributes:\n",
      "\t\t:source = \"super dataset\" ;\n",
      "}\n"
     ]
    }
   ],
   "source": [
    "!ncdump -h mydata.nc"
   ]
  },
  {
   "cell_type": "code",
   "execution_count": null,
   "metadata": {},
   "outputs": [],
   "source": []
  }
 ],
 "metadata": {
  "kernelspec": {
   "display_name": "Python 3 + Jaspy",
   "language": "python",
   "name": "jaspy"
  },
  "language_info": {
   "codemirror_mode": {
    "name": "ipython",
    "version": 3
   },
   "file_extension": ".py",
   "mimetype": "text/x-python",
   "name": "python",
   "nbconvert_exporter": "python",
   "pygments_lexer": "ipython3",
   "version": "3.10.5"
  }
 },
 "nbformat": 4,
 "nbformat_minor": 4
}
