{
 "cells": [
  {
   "cell_type": "code",
   "execution_count": 3,
   "id": "83862559-35c9-4df8-9a5d-d15b930394cb",
   "metadata": {},
   "outputs": [],
   "source": [
    "import numpy as np\n",
    "arr = np.arange(1,12)"
   ]
  },
  {
   "cell_type": "code",
   "execution_count": null,
   "id": "daad788c-59c6-4645-b5d1-eb109e1616cf",
   "metadata": {},
   "outputs": [],
   "source": [
    "b = np.arange(1,12)\n",
    "np.linspace(500, 1000, 15)\n",
    "b.dtype #return the type of array\n",
    "np.float64\n",
    "b.shape\n",
    "np.min(b) #return the minimum of the array\n",
    "np.max(arr)\n",
    "np.average(arr)\n",
    "#shift+tap for getting info on a function\n",
    "np.reshape(arr, )\n",
    "np.transpose(arr)\n",
    "arr.transpose()\n",
    "np.concatenate([arr,b]) #arr and b should have the same shape\n",
    "np.sin(arr) #sin is not a functopn so has to be called in this way\n",
    "np.greater(arr, 2) # equivalant of arr > 2\n"
   ]
  },
  {
   "cell_type": "code",
   "execution_count": 4,
   "id": "1b11e084-7fd1-4e07-8bbd-da19cd0290a1",
   "metadata": {},
   "outputs": [
    {
     "data": {
      "text/plain": [
       "array([False, False, False, False,  True,  True,  True,  True,  True,\n",
       "        True,  True])"
      ]
     },
     "execution_count": 4,
     "metadata": {},
     "output_type": "execute_result"
    }
   ],
   "source": [
    "arr > 0\n",
    "arr < 4\n",
    "np.logical_and(arr > 0 , arr > 4)\n"
   ]
  },
  {
   "cell_type": "code",
   "execution_count": 6,
   "id": "dd715a0f-2fe2-47db-89c1-e3b4d8945f2a",
   "metadata": {
    "scrolled": true
   },
   "outputs": [
    {
     "data": {
      "text/plain": [
       "array([1, 4, 9, 0, 0, 0, 0, 0, 0, 0, 0])"
      ]
     },
     "execution_count": 6,
     "metadata": {},
     "output_type": "execute_result"
    }
   ],
   "source": [
    "cond = arr <4\n",
    "np.where(cond, arr*arr, 0) #condition"
   ]
  },
  {
   "cell_type": "code",
   "execution_count": 7,
   "id": "6811982f-607b-4332-a38d-82ed025a467b",
   "metadata": {},
   "outputs": [],
   "source": [
    "import numpy.ma as MA"
   ]
  },
  {
   "cell_type": "code",
   "execution_count": null,
   "id": "4bc98ddb-1bf4-458e-a3c5-202171f5447a",
   "metadata": {},
   "outputs": [],
   "source": []
  }
 ],
 "metadata": {
  "kernelspec": {
   "display_name": "Python 3 + Jaspy",
   "language": "python",
   "name": "jaspy"
  },
  "language_info": {
   "codemirror_mode": {
    "name": "ipython",
    "version": 3
   },
   "file_extension": ".py",
   "mimetype": "text/x-python",
   "name": "python",
   "nbconvert_exporter": "python",
   "pygments_lexer": "ipython3",
   "version": "3.10.5"
  }
 },
 "nbformat": 4,
 "nbformat_minor": 5
}
